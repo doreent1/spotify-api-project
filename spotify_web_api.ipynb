{
 "cells": [
  {
   "cell_type": "code",
   "execution_count": 5,
   "id": "59077e20",
   "metadata": {},
   "outputs": [],
   "source": [
    "import requests \n",
    "import json"
   ]
  },
  {
   "cell_type": "markdown",
   "id": "176e831c",
   "metadata": {},
   "source": [
    "#### Follow this link to get token for userID: ***https://developer.spotify.com/console/get-current-user/***\n",
    "#### Follow this link to get token to create a spotify playlist: ***https://developer.spotify.com/console/post-playlists/***"
   ]
  },
  {
   "cell_type": "code",
   "execution_count": null,
   "id": "df5abb37",
   "metadata": {},
   "outputs": [],
   "source": [
    "def user_id():\n",
    "    auth_token = input(\"Paste token to search your userID: \")\n",
    "    seed_user_query = f\"https://api.spotify.com/v1/me\"\n",
    "    response =requests.get(seed_user_query, \n",
    "                headers={\"Content-Type\":\"application/json\", \"Authorization\":f\"Bearer {auth_token}\"})\n",
    "    valid_request = response.status_code in range(200, 299)\n",
    "    if valid_request:\n",
    "        print(\"SUCCESS\")\n",
    "    else:\n",
    "        print(\"NOT SUCCESS\")\n",
    "    user_json_response = response.json()\n",
    "    user_id = user_json_response['id']\n",
    "    return user_id\n",
    "\n",
    "def create_spotify_playlist():\n",
    "    user_endpoint_url = f\"https://api.spotify.com/v1/users/{user_id()}/playlists\"\n",
    "    authorization_token = input(\"Enter token to create playlist: \")\n",
    "    request_body = json.dumps({\n",
    "            \"name\": input(\"Enter playlist name:\"),\n",
    "            \"description\": input(\"Playlist description:\"),\n",
    "            \"public\": False # or True for public\n",
    "            })\n",
    "    response = requests.post(url = user_endpoint_url, data = request_body, headers={\"Content-Type\":\"application/json\", \n",
    "                            \"Authorization\":f\"Bearer {authorization_token}\"})\n",
    "    valid_request = response.status_code in range(200, 299)\n",
    "    if valid_request:\n",
    "        print(\"SUCCESS\")\n",
    "    else:\n",
    "        print(\"NOT SUCCESS\")\n",
    "    response_json = response.json()\n",
    "    playlist_id = response_json['id']\n",
    "\n",
    "create_spotify_playlist()"
   ]
  },
  {
   "cell_type": "markdown",
   "id": "3419a6e3",
   "metadata": {},
   "source": [
    "#### Follow this link to get search token: ***https://developer.spotify.com/console/get-search-item/***"
   ]
  },
  {
   "cell_type": "code",
   "execution_count": null,
   "id": "1414669f",
   "metadata": {},
   "outputs": [],
   "source": [
    "search_token = input(\"Enter token to search spotify api: \")\n",
    "\n",
    "def search_artist():\n",
    "    artist_name = input('Enter artists name: ')\n",
    "    seed_artists_query = f\"https://api.spotify.com/v1/search?q={artist_name}&type=artist\"\n",
    "    response =requests.get(seed_artists_query, \n",
    "                headers={\"Content-Type\":\"application/json\", \"Authorization\":f\"Bearer {search_token}\"})\n",
    "    if response.status_code in range(200, 299):\n",
    "        print(\"SUCCESS\")\n",
    "    else:\n",
    "        print(\"NOT SUCCESS\")\n",
    "    artist_json_response = response.json()\n",
    "    artist_id=[]\n",
    "    for i in artist_json_response['artists']['items']:\n",
    "        artist_id.append(i['id'])\n",
    "    seed_artist = artist_id[0]\n",
    "    return seed_artist\n",
    "    \n",
    "def search_track():\n",
    "    track_name = input('Enter track name: ')\n",
    "    seed_track_query = f\"https://api.spotify.com/v1/search?q={track_name}&type=track\"\n",
    "    response =requests.get(seed_track_query, \n",
    "                headers={\"Content-Type\":\"application/json\", \"Authorization\":f\"Bearer {search_token}\"})\n",
    "    if response.status_code in range(200, 299):\n",
    "        print(\"SUCCESS\")\n",
    "    else:\n",
    "        print(\"NOT SUCCESS\")\n",
    "    track_json_response = response.json()\n",
    "    track_id=[]\n",
    "    for i in track_json_response['tracks']['items']:\n",
    "        track_id.append(i['id'])\n",
    "    seed_track = track_id[0]\n",
    "    return seed_track\n",
    "\n",
    "#get song recommendations token here: https://developer.spotify.com/console/get-recommendations/\n",
    "\n",
    "endpoint_url = \"https://api.spotify.com/v1/recommendations?\"\n",
    "\n",
    "query = f\"https://api.spotify.com/v1/recommendations?limit=20&seed_artists={search_artist()}&seed_tracks={search_track()}\"\n",
    "authorization_token = input(\"Enter token to get song recommendations: \")\n",
    "response =requests.get(query, \n",
    "               headers={\"Content-Type\":\"application/json\", \n",
    "                        \"Authorization\":f\"Bearer {authorization_token}\"})\n",
    "print('query', response.json)\n",
    "\n",
    "#this will print the list of recommended songs\n",
    "json_response = response.json()\n",
    "# print(json_response)\n",
    "uris=[]\n",
    "for i in json_response['tracks']:\n",
    "    uris.append(i['uri'])\n",
    "    print(f\"\\\"{i['name']}\\\" by {i['artists'][0]['name']} | URI: {i['uri']}\")"
   ]
  },
  {
   "cell_type": "markdown",
   "id": "307a5755",
   "metadata": {},
   "source": [
    "#### Follow this link to add recommended songs to playlist: ***https://developer.spotify.com/console/post-playlist-tracks/***"
   ]
  },
  {
   "cell_type": "code",
   "execution_count": null,
   "id": "d89ac8be",
   "metadata": {},
   "outputs": [],
   "source": [
    "\n",
    "playlist_name = input('Enter playlist name: ')\n",
    "seed_playlist_query = f\"https://api.spotify.com/v1/search?q={playlist_name}&type=playlist\"\n",
    "response =requests.get(seed_playlist_query, \n",
    "            headers={\"Content-Type\":\"application/json\", \"Authorization\":f\"Bearer {search_token}\"})\n",
    "print('query', response.json)\n",
    "artist_json_response = response.json()\n",
    "\n",
    "playlist=[]\n",
    "for i in artist_json_response['playlists']['items']:\n",
    "    playlist.append(i['id'])\n",
    "playlist_id = playlist[0]\n",
    "\n",
    "playlist_endpoint_url = f'https://api.spotify.com/v1/playlists/{playlist_id}/tracks'\n",
    "\n",
    "authorization_token =  input(\"Paste token to add tracks to playlist: \")\n",
    "request_body = json.dumps(uris)\n",
    "\n",
    "response = requests.post(url = playlist_endpoint_url, data = request_body, headers={\"content-Type\":\"application/json\", \n",
    "                        \"Authorization\":f\"Bearer {authorization_token}\"})\n",
    "if response.status_code in range(200, 299):\n",
    "    print(\"SUCCESS\")\n",
    "else:\n",
    "    print(\"NOT SUCCESS\")\n"
   ]
  }
 ],
 "metadata": {
  "kernelspec": {
   "display_name": "Python 3.8.8 ('base')",
   "language": "python",
   "name": "python3"
  },
  "language_info": {
   "codemirror_mode": {
    "name": "ipython",
    "version": 3
   },
   "file_extension": ".py",
   "mimetype": "text/x-python",
   "name": "python",
   "nbconvert_exporter": "python",
   "pygments_lexer": "ipython3",
   "version": "3.8.8"
  },
  "vscode": {
   "interpreter": {
    "hash": "a0627b699e66216f077cd1bac22d53b6887ef67b561ab21bd49ba2fa3f37f9c3"
   }
  }
 },
 "nbformat": 4,
 "nbformat_minor": 5
}
